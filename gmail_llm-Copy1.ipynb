{
 "cells": [
  {
   "cell_type": "code",
   "execution_count": 52,
   "id": "fc71c27a-3baf-4d74-ae26-1b9654af6c2e",
   "metadata": {},
   "outputs": [],
   "source": [
    "# https://python.langchain.com/en/latest/modules/agents/toolkits/examples/gmail.html\n",
    "\n",
    "# Step 1: Create a json file and download the same in the working folder: https://developers.google.com/gmail/api/quickstart/python#authorize_credentials_for_a_desktop_application\n",
    "\n",
    "# Step 2: pip install google-api-python-client, google-auth-oauthlib, google-auth-httplib2, beautifulsoup4, langchain\n",
    "\n",
    "# Step 3: Add Users for testing this app In Authconsent Screen\n",
    "# Issues resolved: https://stackoverflow.com/questions/65184355/error-403-access-denied-from-google-authentication-web-api-despite-google-acc\n",
    "\n",
    "# Step 4: Enable it by visiting https://console.developers.google.com/apis/api/gmail.googleapis.com/overview?project=26982114008\n",
    "\n",
    "\n",
    "\n",
    "from langchain.agents.agent_toolkits import GmailToolkit\n",
    "from langchain.schema import(\n",
    "    AIMessage,\n",
    "    HumanMessage,\n",
    "    SystemMessage\n",
    ")\n",
    "from langchain.chat_models import ChatOpenAI\n",
    "toolkit = GmailToolkit() \n",
    "\n",
    "# tools = toolkit.get_tools()\n",
    "# print(tools)\n",
    "\n",
    "import os\n",
    "from dotenv import load_dotenv, find_dotenv\n",
    "_ = load_dotenv(find_dotenv())\n",
    "os.environ['OPENAI_API_KEY'] = os.environ[\"OPENAI_API_KEY\"]\n",
    "\n",
    "from langchain import OpenAI\n",
    "from langchain.agents import initialize_agent, AgentType\n",
    "\n",
    "llm = OpenAI(temperature=0)\n",
    "\n",
    "agent = initialize_agent(\n",
    "    tools=toolkit.get_tools(),\n",
    "    llm=llm,\n",
    "    agent=AgentType.STRUCTURED_CHAT_ZERO_SHOT_REACT_DESCRIPTION,\n",
    ")\n",
    "\n",
    "context = \"charging\"\n",
    "# context = \"warranty\"\n",
    "# agent.run(\"Create a gmail draft for me to editor of a letter from the perspective of a sentient parrot\"\n",
    "#           \" who is looking to collaborate on some research with her\"\n",
    "#           \" estranged friend, a cat. Under no circumstances may you send the message, however.\")\n",
    "\n",
    "email = agent.run(f\"Could you search in my inbox for the latest email on inverter with {context} and provide me the complete mail content with sender email, subject and body in json format?\")\n",
    "# chat_messages=[\n",
    "#     SystemMessage(content='You are an expert assistant with expertize in reading mails'),\n",
    "#     HumanMessage(content=f'Please provide the complete email content including the body of the mail and do not add or make up anything and return me a json with sender name, email, subject, body:\\n TEXT: {email}')\n",
    "# ]\n",
    "\n",
    "# # llm=ChatOpenAI(model_name='gpt-3.5-turbo')\n",
    "# email_json = llm(chat_messages).content\n"
   ]
  },
  {
   "cell_type": "code",
   "execution_count": 53,
   "id": "37934451-f7df-49cb-933b-5f1d353db790",
   "metadata": {},
   "outputs": [
    {
     "data": {
      "text/plain": [
       "{'id': '18d31516417c464d',\n",
       " 'threadId': '18d3150da81529af',\n",
       " 'snippet': 'What is the charging time of the inverter battery?',\n",
       " 'body': 'What is the charging time of the inverter battery?\\r\\n',\n",
       " 'subject': 'inverter battery charging time?',\n",
       " 'sender': 'AKSHAT PANT <akshat.pant06@gmail.com>'}"
      ]
     },
     "execution_count": 53,
     "metadata": {},
     "output_type": "execute_result"
    }
   ],
   "source": [
    "email"
   ]
  },
  {
   "cell_type": "code",
   "execution_count": 54,
   "id": "99fe8308-e06c-403a-a9e4-a37bd1c0d0a1",
   "metadata": {},
   "outputs": [],
   "source": [
    "json_format = agent.run(f\"Convert this string : {email} into a json format with keys as sender_email, subject and body\")"
   ]
  },
  {
   "cell_type": "code",
   "execution_count": 55,
   "id": "1d1f0b7e-370e-4325-8e33-e3116d3b6f76",
   "metadata": {},
   "outputs": [
    {
     "data": {
      "text/plain": [
       "{'sender_email': 'AKSHAT PANT <akshat.pant06@gmail.com>',\n",
       " 'subject': 'inverter battery charging time?',\n",
       " 'body': 'What is the charging time of the inverter battery?\\r\\n'}"
      ]
     },
     "execution_count": 55,
     "metadata": {},
     "output_type": "execute_result"
    }
   ],
   "source": [
    "json_format"
   ]
  },
  {
   "cell_type": "code",
   "execution_count": 41,
   "id": "3081d948-858f-4a1d-9a8a-0c28d7f0fc8f",
   "metadata": {},
   "outputs": [],
   "source": [
    "product_name = agent.run(f\"Identify the Product Name and what is the product category from this context and return a json: {json_format['body']}\")"
   ]
  },
  {
   "cell_type": "code",
   "execution_count": 42,
   "id": "80968cae-4084-4248-ac86-8e2d641649a0",
   "metadata": {},
   "outputs": [
    {
     "data": {
      "text/plain": [
       "'The product name is PowerGaurd Elite inverter battery and the product category is inverter battery.'"
      ]
     },
     "execution_count": 42,
     "metadata": {},
     "output_type": "execute_result"
    }
   ],
   "source": [
    "product_name"
   ]
  },
  {
   "cell_type": "code",
   "execution_count": 56,
   "id": "538c9cbc-e204-45bc-b317-d7c3eb920d93",
   "metadata": {},
   "outputs": [],
   "source": [
    "from PyPDF2 import PdfReader\n",
    "pdfreader = PdfReader('inv_battery.pdf')\n",
    "\n",
    "text = ''\n",
    "for i, page in enumerate(pdfreader.pages):\n",
    "    content = page.extract_text()\n",
    "    if content:\n",
    "        text += content"
   ]
  },
  {
   "cell_type": "code",
   "execution_count": 57,
   "id": "042cf8a6-611c-4ef4-8dc9-049d96e6987a",
   "metadata": {},
   "outputs": [],
   "source": [
    "chat_messages = [\n",
    "    SystemMessage(content='You are an expert assistant with expertise in reading user manuals of products'),\n",
    "    HumanMessage(content=f'Please provide an answer to the following question {json_format[\"body\"]} from the:\\n TEXT: {text}')\n",
    "]\n",
    "\n",
    "llm=ChatOpenAI(model_name='gpt-3.5-turbo')"
   ]
  },
  {
   "cell_type": "code",
   "execution_count": 58,
   "id": "fd3da97b-040e-4bd7-bfb4-f284f599c9dc",
   "metadata": {},
   "outputs": [
    {
     "data": {
      "text/plain": [
       "'What is the charging time of the inverter battery?\\r\\n'"
      ]
     },
     "execution_count": 58,
     "metadata": {},
     "output_type": "execute_result"
    }
   ],
   "source": [
    "json_format['body']"
   ]
  },
  {
   "cell_type": "code",
   "execution_count": 59,
   "id": "bf15ebe3-c98e-4858-9c52-df793127818f",
   "metadata": {},
   "outputs": [],
   "source": [
    "query_response = llm(chat_messages).content"
   ]
  },
  {
   "cell_type": "code",
   "execution_count": 60,
   "id": "a7eed9e3-5352-47ab-b50a-12638d9c8e4d",
   "metadata": {},
   "outputs": [
    {
     "data": {
      "text/plain": [
       "'The charging time of the PowerGuard Elite Inverter Battery is 8-10 hours.'"
      ]
     },
     "execution_count": 60,
     "metadata": {},
     "output_type": "execute_result"
    }
   ],
   "source": [
    "query_response"
   ]
  },
  {
   "cell_type": "code",
   "execution_count": 48,
   "id": "55b324ba-7dd1-40c8-bb40-e2e8f87add6d",
   "metadata": {},
   "outputs": [
    {
     "data": {
      "text/plain": [
       "\"{'sender': 'AKSHAT PANT <akshat.pant06@gmail.com>', 'subject': 'warranty of inverter battery?', 'body': 'What is the warranty of PowerGaurd Elite inverter battery?\\r\\n'}\""
      ]
     },
     "execution_count": 48,
     "metadata": {},
     "output_type": "execute_result"
    }
   ],
   "source": [
    "email"
   ]
  },
  {
   "cell_type": "code",
   "execution_count": 49,
   "id": "3b3069a3-73ea-4d76-9ac6-b23a934a884b",
   "metadata": {},
   "outputs": [
    {
     "data": {
      "text/plain": [
       "'Message sent. Message Id: 18d314c7b27ec689'"
      ]
     },
     "execution_count": 49,
     "metadata": {},
     "output_type": "execute_result"
    }
   ],
   "source": [
    "agent.run(f\"Send a gmail reply to {json_format['sender_email']} for {json_format['subject']} with response {query_response}\")"
   ]
  },
  {
   "cell_type": "code",
   "execution_count": null,
   "id": "7406d310-b137-463a-ba54-1d59cac88fc2",
   "metadata": {},
   "outputs": [],
   "source": []
  }
 ],
 "metadata": {
  "kernelspec": {
   "display_name": "Python 3 (ipykernel)",
   "language": "python",
   "name": "python3"
  },
  "language_info": {
   "codemirror_mode": {
    "name": "ipython",
    "version": 3
   },
   "file_extension": ".py",
   "mimetype": "text/x-python",
   "name": "python",
   "nbconvert_exporter": "python",
   "pygments_lexer": "ipython3",
   "version": "3.8.18"
  }
 },
 "nbformat": 4,
 "nbformat_minor": 5
}
