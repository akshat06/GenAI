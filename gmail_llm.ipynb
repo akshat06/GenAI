{
 "cells": [
  {
   "cell_type": "code",
   "execution_count": 7,
   "id": "b891812d-1144-4ab1-ba62-b5dc3706ad0c",
   "metadata": {},
   "outputs": [
    {
     "name": "stdout",
     "output_type": "stream",
     "text": [
      "Collecting google-api-python-client\n",
      "  Downloading google_api_python_client-2.114.0-py2.py3-none-any.whl.metadata (6.6 kB)\n",
      "Requirement already satisfied: httplib2<1.dev0,>=0.15.0 in c:\\users\\aksha\\miniconda3\\envs\\langchain_env\\lib\\site-packages (from google-api-python-client) (0.22.0)\n",
      "Requirement already satisfied: google-auth<3.0.0.dev0,>=1.19.0 in c:\\users\\aksha\\miniconda3\\envs\\langchain_env\\lib\\site-packages (from google-api-python-client) (2.26.1)\n",
      "Collecting google-auth-httplib2>=0.1.0 (from google-api-python-client)\n",
      "  Downloading google_auth_httplib2-0.2.0-py2.py3-none-any.whl.metadata (2.2 kB)\n",
      "Collecting google-api-core!=2.0.*,!=2.1.*,!=2.2.*,!=2.3.0,<3.0.0.dev0,>=1.31.5 (from google-api-python-client)\n",
      "  Downloading google_api_core-2.15.0-py3-none-any.whl.metadata (2.7 kB)\n",
      "Collecting uritemplate<5,>=3.0.1 (from google-api-python-client)\n",
      "  Downloading uritemplate-4.1.1-py2.py3-none-any.whl (10 kB)\n",
      "Requirement already satisfied: googleapis-common-protos<2.0.dev0,>=1.56.2 in c:\\users\\aksha\\miniconda3\\envs\\langchain_env\\lib\\site-packages (from google-api-core!=2.0.*,!=2.1.*,!=2.2.*,!=2.3.0,<3.0.0.dev0,>=1.31.5->google-api-python-client) (1.62.0)\n",
      "Requirement already satisfied: protobuf!=3.20.0,!=3.20.1,!=4.21.0,!=4.21.1,!=4.21.2,!=4.21.3,!=4.21.4,!=4.21.5,<5.0.0.dev0,>=3.19.5 in c:\\users\\aksha\\miniconda3\\envs\\langchain_env\\lib\\site-packages (from google-api-core!=2.0.*,!=2.1.*,!=2.2.*,!=2.3.0,<3.0.0.dev0,>=1.31.5->google-api-python-client) (4.25.1)\n",
      "Requirement already satisfied: requests<3.0.0.dev0,>=2.18.0 in c:\\users\\aksha\\miniconda3\\envs\\langchain_env\\lib\\site-packages (from google-api-core!=2.0.*,!=2.1.*,!=2.2.*,!=2.3.0,<3.0.0.dev0,>=1.31.5->google-api-python-client) (2.31.0)\n",
      "Requirement already satisfied: cachetools<6.0,>=2.0.0 in c:\\users\\aksha\\miniconda3\\envs\\langchain_env\\lib\\site-packages (from google-auth<3.0.0.dev0,>=1.19.0->google-api-python-client) (5.3.2)\n",
      "Requirement already satisfied: pyasn1-modules>=0.2.1 in c:\\users\\aksha\\miniconda3\\envs\\langchain_env\\lib\\site-packages (from google-auth<3.0.0.dev0,>=1.19.0->google-api-python-client) (0.3.0)\n",
      "Requirement already satisfied: rsa<5,>=3.1.4 in c:\\users\\aksha\\miniconda3\\envs\\langchain_env\\lib\\site-packages (from google-auth<3.0.0.dev0,>=1.19.0->google-api-python-client) (4.9)\n",
      "Requirement already satisfied: pyparsing!=3.0.0,!=3.0.1,!=3.0.2,!=3.0.3,<4,>=2.4.2 in c:\\users\\aksha\\miniconda3\\envs\\langchain_env\\lib\\site-packages (from httplib2<1.dev0,>=0.15.0->google-api-python-client) (3.1.1)\n",
      "Requirement already satisfied: pyasn1<0.6.0,>=0.4.6 in c:\\users\\aksha\\miniconda3\\envs\\langchain_env\\lib\\site-packages (from pyasn1-modules>=0.2.1->google-auth<3.0.0.dev0,>=1.19.0->google-api-python-client) (0.5.1)\n",
      "Requirement already satisfied: charset-normalizer<4,>=2 in c:\\users\\aksha\\miniconda3\\envs\\langchain_env\\lib\\site-packages (from requests<3.0.0.dev0,>=2.18.0->google-api-core!=2.0.*,!=2.1.*,!=2.2.*,!=2.3.0,<3.0.0.dev0,>=1.31.5->google-api-python-client) (3.3.2)\n",
      "Requirement already satisfied: idna<4,>=2.5 in c:\\users\\aksha\\miniconda3\\envs\\langchain_env\\lib\\site-packages (from requests<3.0.0.dev0,>=2.18.0->google-api-core!=2.0.*,!=2.1.*,!=2.2.*,!=2.3.0,<3.0.0.dev0,>=1.31.5->google-api-python-client) (3.6)\n",
      "Requirement already satisfied: urllib3<3,>=1.21.1 in c:\\users\\aksha\\miniconda3\\envs\\langchain_env\\lib\\site-packages (from requests<3.0.0.dev0,>=2.18.0->google-api-core!=2.0.*,!=2.1.*,!=2.2.*,!=2.3.0,<3.0.0.dev0,>=1.31.5->google-api-python-client) (1.26.18)\n",
      "Requirement already satisfied: certifi>=2017.4.17 in c:\\users\\aksha\\miniconda3\\envs\\langchain_env\\lib\\site-packages (from requests<3.0.0.dev0,>=2.18.0->google-api-core!=2.0.*,!=2.1.*,!=2.2.*,!=2.3.0,<3.0.0.dev0,>=1.31.5->google-api-python-client) (2023.11.17)\n",
      "Downloading google_api_python_client-2.114.0-py2.py3-none-any.whl (12.0 MB)\n",
      "   ---------------------------------------- 0.0/12.0 MB ? eta -:--:--\n",
      "   ---------------------------------------- 0.0/12.0 MB ? eta -:--:--\n",
      "   ---------------------------------------- 0.0/12.0 MB ? eta -:--:--\n",
      "   ---------------------------------------- 0.0/12.0 MB 435.7 kB/s eta 0:00:28\n",
      "   ---------------------------------------- 0.1/12.0 MB 465.5 kB/s eta 0:00:26\n",
      "   ---------------------------------------- 0.1/12.0 MB 595.3 kB/s eta 0:00:20\n",
      "   ---------------------------------------- 0.1/12.0 MB 607.9 kB/s eta 0:00:20\n",
      "    --------------------------------------- 0.2/12.0 MB 653.6 kB/s eta 0:00:18\n",
      "    --------------------------------------- 0.3/12.0 MB 682.7 kB/s eta 0:00:18\n",
      "   - -------------------------------------- 0.3/12.0 MB 729.6 kB/s eta 0:00:16\n",
      "   - -------------------------------------- 0.4/12.0 MB 739.0 kB/s eta 0:00:16\n",
      "   - -------------------------------------- 0.4/12.0 MB 786.3 kB/s eta 0:00:15\n",
      "   - -------------------------------------- 0.5/12.0 MB 805.8 kB/s eta 0:00:15\n",
      "   - -------------------------------------- 0.5/12.0 MB 805.8 kB/s eta 0:00:15\n",
      "   - -------------------------------------- 0.5/12.0 MB 805.8 kB/s eta 0:00:15\n",
      "   - -------------------------------------- 0.5/12.0 MB 805.8 kB/s eta 0:00:15\n",
      "   - -------------------------------------- 0.5/12.0 MB 805.8 kB/s eta 0:00:15\n",
      "   - -------------------------------------- 0.5/12.0 MB 805.8 kB/s eta 0:00:15\n",
      "   - -------------------------------------- 0.5/12.0 MB 805.8 kB/s eta 0:00:15\n",
      "   - -------------------------------------- 0.5/12.0 MB 805.8 kB/s eta 0:00:15\n",
      "   - -------------------------------------- 0.5/12.0 MB 503.9 kB/s eta 0:00:23\n",
      "   - -------------------------------------- 0.6/12.0 MB 539.5 kB/s eta 0:00:22\n",
      "   - -------------------------------------- 0.6/12.0 MB 541.4 kB/s eta 0:00:21\n",
      "   -- ------------------------------------- 0.6/12.0 MB 538.5 kB/s eta 0:00:22\n",
      "   -- ------------------------------------- 0.7/12.0 MB 551.6 kB/s eta 0:00:21\n",
      "   -- ------------------------------------- 0.7/12.0 MB 563.8 kB/s eta 0:00:20\n",
      "   -- ------------------------------------- 0.7/12.0 MB 575.1 kB/s eta 0:00:20\n",
      "   -- ------------------------------------- 0.8/12.0 MB 586.0 kB/s eta 0:00:20\n",
      "   -- ------------------------------------- 0.8/12.0 MB 603.2 kB/s eta 0:00:19\n",
      "   -- ------------------------------------- 0.9/12.0 MB 612.1 kB/s eta 0:00:19\n",
      "   --- ------------------------------------ 0.9/12.0 MB 620.6 kB/s eta 0:00:18\n",
      "   --- ------------------------------------ 1.0/12.0 MB 621.6 kB/s eta 0:00:18\n",
      "   --- ------------------------------------ 1.0/12.0 MB 635.9 kB/s eta 0:00:18\n",
      "   --- ------------------------------------ 1.1/12.0 MB 649.1 kB/s eta 0:00:17\n",
      "   --- ------------------------------------ 1.1/12.0 MB 661.4 kB/s eta 0:00:17\n",
      "   --- ------------------------------------ 1.1/12.0 MB 667.4 kB/s eta 0:00:17\n",
      "   ---- ----------------------------------- 1.2/12.0 MB 678.8 kB/s eta 0:00:16\n",
      "   ---- ----------------------------------- 1.2/12.0 MB 683.8 kB/s eta 0:00:16\n",
      "   ---- ----------------------------------- 1.3/12.0 MB 699.2 kB/s eta 0:00:16\n",
      "   ---- ----------------------------------- 1.4/12.0 MB 713.9 kB/s eta 0:00:15\n",
      "   ---- ----------------------------------- 1.5/12.0 MB 727.4 kB/s eta 0:00:15\n",
      "   ----- ---------------------------------- 1.5/12.0 MB 735.4 kB/s eta 0:00:15\n",
      "   ----- ---------------------------------- 1.6/12.0 MB 747.4 kB/s eta 0:00:14\n",
      "   ----- ---------------------------------- 1.6/12.0 MB 760.5 kB/s eta 0:00:14\n",
      "   ----- ---------------------------------- 1.7/12.0 MB 771.6 kB/s eta 0:00:14\n",
      "   ----- ---------------------------------- 1.8/12.0 MB 782.8 kB/s eta 0:00:14\n",
      "   ------ --------------------------------- 1.8/12.0 MB 789.1 kB/s eta 0:00:13\n",
      "   ------ --------------------------------- 1.9/12.0 MB 799.5 kB/s eta 0:00:13\n",
      "   ------ --------------------------------- 1.9/12.0 MB 809.4 kB/s eta 0:00:13\n",
      "   ------ --------------------------------- 2.0/12.0 MB 820.2 kB/s eta 0:00:13\n",
      "   ------ --------------------------------- 2.1/12.0 MB 829.5 kB/s eta 0:00:12\n",
      "   ------- -------------------------------- 2.1/12.0 MB 837.2 kB/s eta 0:00:12\n",
      "   ------- -------------------------------- 2.2/12.0 MB 846.1 kB/s eta 0:00:12\n",
      "   ------- -------------------------------- 2.2/12.0 MB 855.3 kB/s eta 0:00:12\n",
      "   ------- -------------------------------- 2.3/12.0 MB 864.6 kB/s eta 0:00:12\n",
      "   ------- -------------------------------- 2.4/12.0 MB 867.5 kB/s eta 0:00:12\n",
      "   -------- ------------------------------- 2.4/12.0 MB 875.1 kB/s eta 0:00:11\n",
      "   -------- ------------------------------- 2.5/12.0 MB 889.6 kB/s eta 0:00:11\n",
      "   -------- ------------------------------- 2.6/12.0 MB 898.7 kB/s eta 0:00:11\n",
      "   -------- ------------------------------- 2.6/12.0 MB 905.3 kB/s eta 0:00:11\n",
      "   --------- ------------------------------ 2.7/12.0 MB 912.0 kB/s eta 0:00:11\n",
      "   --------- ------------------------------ 2.8/12.0 MB 925.0 kB/s eta 0:00:10\n",
      "   --------- ------------------------------ 2.9/12.0 MB 934.3 kB/s eta 0:00:10\n",
      "   --------- ------------------------------ 2.9/12.0 MB 944.8 kB/s eta 0:00:10\n",
      "   ---------- ----------------------------- 3.0/12.0 MB 952.0 kB/s eta 0:00:10\n",
      "   ---------- ----------------------------- 3.1/12.0 MB 965.2 kB/s eta 0:00:10\n",
      "   ---------- ----------------------------- 3.1/12.0 MB 973.4 kB/s eta 0:00:10\n",
      "   ---------- ----------------------------- 3.2/12.0 MB 979.7 kB/s eta 0:00:09\n",
      "   ----------- ---------------------------- 3.3/12.0 MB 990.8 kB/s eta 0:00:09\n",
      "   ----------- ---------------------------- 3.4/12.0 MB 1.0 MB/s eta 0:00:09\n",
      "   ----------- ---------------------------- 3.5/12.0 MB 1.0 MB/s eta 0:00:09\n",
      "   ----------- ---------------------------- 3.5/12.0 MB 1.0 MB/s eta 0:00:09\n",
      "   ------------ --------------------------- 3.6/12.0 MB 1.0 MB/s eta 0:00:09\n",
      "   ------------ --------------------------- 3.7/12.0 MB 1.0 MB/s eta 0:00:08\n",
      "   ------------ --------------------------- 3.8/12.0 MB 1.0 MB/s eta 0:00:08\n",
      "   ------------ --------------------------- 3.9/12.0 MB 1.1 MB/s eta 0:00:08\n",
      "   ------------- -------------------------- 3.9/12.0 MB 1.1 MB/s eta 0:00:08\n",
      "   ------------- -------------------------- 4.1/12.0 MB 1.1 MB/s eta 0:00:08\n",
      "   -------------- ------------------------- 4.2/12.0 MB 1.1 MB/s eta 0:00:08\n",
      "   -------------- ------------------------- 4.3/12.0 MB 1.1 MB/s eta 0:00:07\n",
      "   -------------- ------------------------- 4.4/12.0 MB 1.1 MB/s eta 0:00:07\n",
      "   --------------- ------------------------ 4.5/12.0 MB 1.1 MB/s eta 0:00:07\n",
      "   --------------- ------------------------ 4.6/12.0 MB 1.1 MB/s eta 0:00:07\n",
      "   --------------- ------------------------ 4.7/12.0 MB 1.1 MB/s eta 0:00:07\n",
      "   ---------------- ----------------------- 4.8/12.0 MB 1.2 MB/s eta 0:00:07\n",
      "   ---------------- ----------------------- 4.9/12.0 MB 1.2 MB/s eta 0:00:06\n",
      "   ---------------- ----------------------- 5.1/12.0 MB 1.2 MB/s eta 0:00:06\n",
      "   ----------------- ---------------------- 5.2/12.0 MB 1.2 MB/s eta 0:00:06\n",
      "   ----------------- ---------------------- 5.3/12.0 MB 1.2 MB/s eta 0:00:06\n",
      "   ------------------ --------------------- 5.4/12.0 MB 1.2 MB/s eta 0:00:06\n",
      "   ------------------ --------------------- 5.5/12.0 MB 1.2 MB/s eta 0:00:06\n",
      "   ------------------ --------------------- 5.6/12.0 MB 1.2 MB/s eta 0:00:06\n",
      "   ------------------ --------------------- 5.7/12.0 MB 1.2 MB/s eta 0:00:06\n",
      "   ------------------- -------------------- 5.7/12.0 MB 1.2 MB/s eta 0:00:06\n",
      "   ------------------- -------------------- 5.8/12.0 MB 1.2 MB/s eta 0:00:05\n",
      "   ------------------- -------------------- 5.9/12.0 MB 1.3 MB/s eta 0:00:05\n",
      "   -------------------- ------------------- 6.1/12.0 MB 1.3 MB/s eta 0:00:05\n",
      "   -------------------- ------------------- 6.1/12.0 MB 1.3 MB/s eta 0:00:05\n",
      "   -------------------- ------------------- 6.2/12.0 MB 1.3 MB/s eta 0:00:05\n",
      "   --------------------- ------------------ 6.3/12.0 MB 1.3 MB/s eta 0:00:05\n",
      "   --------------------- ------------------ 6.5/12.0 MB 1.3 MB/s eta 0:00:05\n",
      "   --------------------- ------------------ 6.6/12.0 MB 1.3 MB/s eta 0:00:05\n",
      "   ---------------------- ----------------- 6.6/12.0 MB 1.3 MB/s eta 0:00:05\n",
      "   ---------------------- ----------------- 6.7/12.0 MB 1.3 MB/s eta 0:00:04\n",
      "   ---------------------- ----------------- 6.8/12.0 MB 1.3 MB/s eta 0:00:04\n",
      "   ----------------------- ---------------- 7.0/12.0 MB 1.3 MB/s eta 0:00:04\n",
      "   ----------------------- ---------------- 7.1/12.0 MB 1.3 MB/s eta 0:00:04\n",
      "   ----------------------- ---------------- 7.2/12.0 MB 1.4 MB/s eta 0:00:04\n",
      "   ------------------------ --------------- 7.3/12.0 MB 1.4 MB/s eta 0:00:04\n",
      "   ------------------------ --------------- 7.4/12.0 MB 1.4 MB/s eta 0:00:04\n",
      "   ------------------------- -------------- 7.5/12.0 MB 1.4 MB/s eta 0:00:04\n",
      "   ------------------------- -------------- 7.6/12.0 MB 1.4 MB/s eta 0:00:04\n",
      "   ------------------------- -------------- 7.7/12.0 MB 1.4 MB/s eta 0:00:04\n",
      "   -------------------------- ------------- 7.8/12.0 MB 1.4 MB/s eta 0:00:03\n",
      "   -------------------------- ------------- 7.9/12.0 MB 1.4 MB/s eta 0:00:03\n",
      "   -------------------------- ------------- 8.0/12.0 MB 1.4 MB/s eta 0:00:03\n",
      "   --------------------------- ------------ 8.2/12.0 MB 1.4 MB/s eta 0:00:03\n",
      "   --------------------------- ------------ 8.3/12.0 MB 1.4 MB/s eta 0:00:03\n",
      "   ---------------------------- ----------- 8.4/12.0 MB 1.5 MB/s eta 0:00:03\n",
      "   ---------------------------- ----------- 8.5/12.0 MB 1.5 MB/s eta 0:00:03\n",
      "   ---------------------------- ----------- 8.7/12.0 MB 1.5 MB/s eta 0:00:03\n",
      "   ----------------------------- ---------- 8.8/12.0 MB 1.5 MB/s eta 0:00:03\n",
      "   ----------------------------- ---------- 8.9/12.0 MB 1.5 MB/s eta 0:00:03\n",
      "   ------------------------------ --------- 9.0/12.0 MB 1.5 MB/s eta 0:00:02\n",
      "   ------------------------------ --------- 9.1/12.0 MB 1.5 MB/s eta 0:00:02\n",
      "   ------------------------------- -------- 9.3/12.0 MB 1.5 MB/s eta 0:00:02\n",
      "   ------------------------------- -------- 9.4/12.0 MB 1.5 MB/s eta 0:00:02\n",
      "   -------------------------------- ------- 9.6/12.0 MB 1.5 MB/s eta 0:00:02\n",
      "   -------------------------------- ------- 9.8/12.0 MB 1.5 MB/s eta 0:00:02\n",
      "   --------------------------------- ------ 9.9/12.0 MB 1.6 MB/s eta 0:00:02\n",
      "   --------------------------------- ------ 10.0/12.0 MB 1.6 MB/s eta 0:00:02\n",
      "   --------------------------------- ------ 10.1/12.0 MB 1.6 MB/s eta 0:00:02\n",
      "   ---------------------------------- ----- 10.3/12.0 MB 1.6 MB/s eta 0:00:02\n",
      "   ---------------------------------- ----- 10.4/12.0 MB 1.6 MB/s eta 0:00:01\n",
      "   ----------------------------------- ---- 10.5/12.0 MB 1.6 MB/s eta 0:00:01\n",
      "   ----------------------------------- ---- 10.6/12.0 MB 1.7 MB/s eta 0:00:01\n",
      "   ----------------------------------- ---- 10.7/12.0 MB 1.8 MB/s eta 0:00:01\n",
      "   ------------------------------------ --- 10.9/12.0 MB 1.8 MB/s eta 0:00:01\n",
      "   ------------------------------------ --- 11.0/12.0 MB 1.9 MB/s eta 0:00:01\n",
      "   ------------------------------------- -- 11.2/12.0 MB 1.9 MB/s eta 0:00:01\n",
      "   ------------------------------------- -- 11.3/12.0 MB 1.9 MB/s eta 0:00:01\n",
      "   -------------------------------------- - 11.5/12.0 MB 2.0 MB/s eta 0:00:01\n",
      "   -------------------------------------- - 11.6/12.0 MB 2.0 MB/s eta 0:00:01\n",
      "   ---------------------------------------  11.7/12.0 MB 2.0 MB/s eta 0:00:01\n",
      "   ---------------------------------------  11.9/12.0 MB 2.1 MB/s eta 0:00:01\n",
      "   ---------------------------------------  12.0/12.0 MB 2.1 MB/s eta 0:00:01\n",
      "   ---------------------------------------- 12.0/12.0 MB 2.1 MB/s eta 0:00:00\n",
      "Downloading google_api_core-2.15.0-py3-none-any.whl (121 kB)\n",
      "   ---------------------------------------- 0.0/122.0 kB ? eta -:--:--\n",
      "   ---------------------------------------- 122.0/122.0 kB 2.4 MB/s eta 0:00:00\n",
      "Downloading google_auth_httplib2-0.2.0-py2.py3-none-any.whl (9.3 kB)\n",
      "Installing collected packages: uritemplate, google-auth-httplib2, google-api-core, google-api-python-client\n",
      "Successfully installed google-api-core-2.15.0 google-api-python-client-2.114.0 google-auth-httplib2-0.2.0 uritemplate-4.1.1\n"
     ]
    }
   ],
   "source": [
    "!pip install google-api-python-client"
   ]
  },
  {
   "cell_type": "code",
   "execution_count": 8,
   "id": "f789bc63-cfb3-4672-8f74-a32435def5c0",
   "metadata": {},
   "outputs": [
    {
     "name": "stdout",
     "output_type": "stream",
     "text": [
      "Collecting google-auth-oauthlib\n",
      "  Downloading google_auth_oauthlib-1.2.0-py2.py3-none-any.whl.metadata (2.7 kB)\n",
      "Requirement already satisfied: google-auth>=2.15.0 in c:\\users\\aksha\\miniconda3\\envs\\langchain_env\\lib\\site-packages (from google-auth-oauthlib) (2.26.1)\n",
      "Requirement already satisfied: requests-oauthlib>=0.7.0 in c:\\users\\aksha\\miniconda3\\envs\\langchain_env\\lib\\site-packages (from google-auth-oauthlib) (1.3.1)\n",
      "Requirement already satisfied: cachetools<6.0,>=2.0.0 in c:\\users\\aksha\\miniconda3\\envs\\langchain_env\\lib\\site-packages (from google-auth>=2.15.0->google-auth-oauthlib) (5.3.2)\n",
      "Requirement already satisfied: pyasn1-modules>=0.2.1 in c:\\users\\aksha\\miniconda3\\envs\\langchain_env\\lib\\site-packages (from google-auth>=2.15.0->google-auth-oauthlib) (0.3.0)\n",
      "Requirement already satisfied: rsa<5,>=3.1.4 in c:\\users\\aksha\\miniconda3\\envs\\langchain_env\\lib\\site-packages (from google-auth>=2.15.0->google-auth-oauthlib) (4.9)\n",
      "Requirement already satisfied: oauthlib>=3.0.0 in c:\\users\\aksha\\miniconda3\\envs\\langchain_env\\lib\\site-packages (from requests-oauthlib>=0.7.0->google-auth-oauthlib) (3.2.2)\n",
      "Requirement already satisfied: requests>=2.0.0 in c:\\users\\aksha\\miniconda3\\envs\\langchain_env\\lib\\site-packages (from requests-oauthlib>=0.7.0->google-auth-oauthlib) (2.31.0)\n",
      "Requirement already satisfied: pyasn1<0.6.0,>=0.4.6 in c:\\users\\aksha\\miniconda3\\envs\\langchain_env\\lib\\site-packages (from pyasn1-modules>=0.2.1->google-auth>=2.15.0->google-auth-oauthlib) (0.5.1)\n",
      "Requirement already satisfied: charset-normalizer<4,>=2 in c:\\users\\aksha\\miniconda3\\envs\\langchain_env\\lib\\site-packages (from requests>=2.0.0->requests-oauthlib>=0.7.0->google-auth-oauthlib) (3.3.2)\n",
      "Requirement already satisfied: idna<4,>=2.5 in c:\\users\\aksha\\miniconda3\\envs\\langchain_env\\lib\\site-packages (from requests>=2.0.0->requests-oauthlib>=0.7.0->google-auth-oauthlib) (3.6)\n",
      "Requirement already satisfied: urllib3<3,>=1.21.1 in c:\\users\\aksha\\miniconda3\\envs\\langchain_env\\lib\\site-packages (from requests>=2.0.0->requests-oauthlib>=0.7.0->google-auth-oauthlib) (1.26.18)\n",
      "Requirement already satisfied: certifi>=2017.4.17 in c:\\users\\aksha\\miniconda3\\envs\\langchain_env\\lib\\site-packages (from requests>=2.0.0->requests-oauthlib>=0.7.0->google-auth-oauthlib) (2023.11.17)\n",
      "Downloading google_auth_oauthlib-1.2.0-py2.py3-none-any.whl (24 kB)\n",
      "Installing collected packages: google-auth-oauthlib\n",
      "Successfully installed google-auth-oauthlib-1.2.0\n"
     ]
    }
   ],
   "source": [
    "!pip install google-auth-oauthlib"
   ]
  },
  {
   "cell_type": "code",
   "execution_count": 9,
   "id": "e51d08df-dfde-4903-a876-d75206cc4c6e",
   "metadata": {},
   "outputs": [
    {
     "name": "stdout",
     "output_type": "stream",
     "text": [
      "Requirement already satisfied: google-auth-httplib2 in c:\\users\\aksha\\miniconda3\\envs\\langchain_env\\lib\\site-packages (0.2.0)\n",
      "Requirement already satisfied: google-auth in c:\\users\\aksha\\miniconda3\\envs\\langchain_env\\lib\\site-packages (from google-auth-httplib2) (2.26.1)\n",
      "Requirement already satisfied: httplib2>=0.19.0 in c:\\users\\aksha\\miniconda3\\envs\\langchain_env\\lib\\site-packages (from google-auth-httplib2) (0.22.0)\n",
      "Requirement already satisfied: pyparsing!=3.0.0,!=3.0.1,!=3.0.2,!=3.0.3,<4,>=2.4.2 in c:\\users\\aksha\\miniconda3\\envs\\langchain_env\\lib\\site-packages (from httplib2>=0.19.0->google-auth-httplib2) (3.1.1)\n",
      "Requirement already satisfied: cachetools<6.0,>=2.0.0 in c:\\users\\aksha\\miniconda3\\envs\\langchain_env\\lib\\site-packages (from google-auth->google-auth-httplib2) (5.3.2)\n",
      "Requirement already satisfied: pyasn1-modules>=0.2.1 in c:\\users\\aksha\\miniconda3\\envs\\langchain_env\\lib\\site-packages (from google-auth->google-auth-httplib2) (0.3.0)\n",
      "Requirement already satisfied: rsa<5,>=3.1.4 in c:\\users\\aksha\\miniconda3\\envs\\langchain_env\\lib\\site-packages (from google-auth->google-auth-httplib2) (4.9)\n",
      "Requirement already satisfied: pyasn1<0.6.0,>=0.4.6 in c:\\users\\aksha\\miniconda3\\envs\\langchain_env\\lib\\site-packages (from pyasn1-modules>=0.2.1->google-auth->google-auth-httplib2) (0.5.1)\n"
     ]
    }
   ],
   "source": [
    "!pip install google-auth-httplib2"
   ]
  },
  {
   "cell_type": "code",
   "execution_count": 10,
   "id": "0f2d5456-2f79-4bb8-ad31-be1898e5043e",
   "metadata": {},
   "outputs": [
    {
     "name": "stdout",
     "output_type": "stream",
     "text": [
      "Requirement already satisfied: beautifulsoup4 in c:\\users\\aksha\\miniconda3\\envs\\langchain_env\\lib\\site-packages (4.12.3)\n",
      "Requirement already satisfied: soupsieve>1.2 in c:\\users\\aksha\\miniconda3\\envs\\langchain_env\\lib\\site-packages (from beautifulsoup4) (2.5)\n"
     ]
    }
   ],
   "source": [
    "!pip install beautifulsoup4"
   ]
  },
  {
   "cell_type": "code",
   "execution_count": 56,
   "id": "fc71c27a-3baf-4d74-ae26-1b9654af6c2e",
   "metadata": {},
   "outputs": [],
   "source": [
    "# https://python.langchain.com/en/latest/modules/agents/toolkits/examples/gmail.html\n",
    "\n",
    "# Step 1: Create a json file and download the same in the working folder: https://developers.google.com/gmail/api/quickstart/python#authorize_credentials_for_a_desktop_application\n",
    "\n",
    "# Step 2: pip install google-api-python-client, google-auth-oauthlib, google-auth-httplib2, beautifulsoup4, langchain\n",
    "\n",
    "# Step 3: Add Users for testing this app In Authconsent Screen\n",
    "# Issues resolved: https://stackoverflow.com/questions/65184355/error-403-access-denied-from-google-authentication-web-api-despite-google-acc\n",
    "\n",
    "# Step 4: Enable it by visiting https://console.developers.google.com/apis/api/gmail.googleapis.com/overview?project=26982114008\n",
    "\n",
    "\n",
    "\n",
    "from langchain.agents.agent_toolkits import GmailToolkit\n",
    "from langchain.schema import(\n",
    "    AIMessage,\n",
    "    HumanMessage,\n",
    "    SystemMessage\n",
    ")\n",
    "from langchain.chat_models import ChatOpenAI\n",
    "toolkit = GmailToolkit() \n",
    "\n",
    "# tools = toolkit.get_tools()\n",
    "# print(tools)\n",
    "\n",
    "import os\n",
    "from dotenv import load_dotenv, find_dotenv\n",
    "_ = load_dotenv(find_dotenv())\n",
    "os.environ['OPENAI_API_KEY'] = os.environ[\"OPENAI_API_KEY\"]\n",
    "\n",
    "from langchain import OpenAI\n",
    "from langchain.agents import initialize_agent, AgentType\n",
    "\n",
    "llm = OpenAI(temperature=0)\n",
    "\n",
    "agent = initialize_agent(\n",
    "    tools=toolkit.get_tools(),\n",
    "    llm=llm,\n",
    "    agent=AgentType.STRUCTURED_CHAT_ZERO_SHOT_REACT_DESCRIPTION,\n",
    ")\n",
    "\n",
    "\n",
    "# agent.run(\"Create a gmail draft for me to editor of a letter from the perspective of a sentient parrot\"\n",
    "#           \" who is looking to collaborate on some research with her\"\n",
    "#           \" estranged friend, a cat. Under no circumstances may you send the message, however.\")\n",
    "\n",
    "email = agent.run(\"Could you search in my inbox for the email on product query and provide me the complete mail content with sender email, subject and body in json format?\")\n",
    "# chat_messages=[\n",
    "#     SystemMessage(content='You are an expert assistant with expertize in reading mails'),\n",
    "#     HumanMessage(content=f'Please provide the complete email content including the body of the mail and do not add or make up anything and return me a json with sender name, email, subject, body:\\n TEXT: {email}')\n",
    "# ]\n",
    "\n",
    "# # llm=ChatOpenAI(model_name='gpt-3.5-turbo')\n",
    "# email_json = llm(chat_messages).content\n"
   ]
  },
  {
   "cell_type": "code",
   "execution_count": 57,
   "id": "37934451-f7df-49cb-933b-5f1d353db790",
   "metadata": {},
   "outputs": [
    {
     "data": {
      "text/plain": [
       "{'id': '18d210698d94d716',\n",
       " 'threadId': '18d210644969fb25',\n",
       " 'snippet': 'How long does it take to charge the PowerGuard Elite battery fully?',\n",
       " 'body': 'How long does it take to charge the PowerGuard Elite battery fully?\\r\\n',\n",
       " 'subject': 'query on product inverter battery',\n",
       " 'sender': 'AKSHAT PANT <akshat.pant06@gmail.com>'}"
      ]
     },
     "execution_count": 57,
     "metadata": {},
     "output_type": "execute_result"
    }
   ],
   "source": [
    "email"
   ]
  },
  {
   "cell_type": "code",
   "execution_count": 66,
   "id": "3081d948-858f-4a1d-9a8a-0c28d7f0fc8f",
   "metadata": {},
   "outputs": [],
   "source": [
    "product_name = agent.run(f\"Identify the Product Name and what is the product category from this context and return a json: {email['body']}\")"
   ]
  },
  {
   "cell_type": "code",
   "execution_count": 67,
   "id": "80968cae-4084-4248-ac86-8e2d641649a0",
   "metadata": {},
   "outputs": [
    {
     "data": {
      "text/plain": [
       "{'product_name': 'PowerGuard Elite battery',\n",
       " 'product_category': 'inverter battery'}"
      ]
     },
     "execution_count": 67,
     "metadata": {},
     "output_type": "execute_result"
    }
   ],
   "source": [
    "product_name"
   ]
  },
  {
   "cell_type": "code",
   "execution_count": 68,
   "id": "538c9cbc-e204-45bc-b317-d7c3eb920d93",
   "metadata": {},
   "outputs": [],
   "source": [
    "from PyPDF2 import PdfReader\n",
    "pdfreader = PdfReader('inv_battery.pdf')\n",
    "\n",
    "text = ''\n",
    "for i, page in enumerate(pdfreader.pages):\n",
    "    content = page.extract_text()\n",
    "    if content:\n",
    "        text += content"
   ]
  },
  {
   "cell_type": "code",
   "execution_count": 72,
   "id": "042cf8a6-611c-4ef4-8dc9-049d96e6987a",
   "metadata": {},
   "outputs": [],
   "source": [
    "chat_messages = [\n",
    "    SystemMessage(content='You are an expert assistant with expertise in reading user manuals of products'),\n",
    "    HumanMessage(content=f'Please provide an answer to the following question {email[\"body\"]} from the:\\n TEXT: {text}')\n",
    "]\n",
    "\n",
    "llm=ChatOpenAI(model_name='gpt-3.5-turbo')"
   ]
  },
  {
   "cell_type": "code",
   "execution_count": 71,
   "id": "fd3da97b-040e-4bd7-bfb4-f284f599c9dc",
   "metadata": {},
   "outputs": [
    {
     "data": {
      "text/plain": [
       "'How long does it take to charge the PowerGuard Elite battery fully?\\r\\n'"
      ]
     },
     "execution_count": 71,
     "metadata": {},
     "output_type": "execute_result"
    }
   ],
   "source": [
    "email['body']"
   ]
  },
  {
   "cell_type": "code",
   "execution_count": 74,
   "id": "bf15ebe3-c98e-4858-9c52-df793127818f",
   "metadata": {},
   "outputs": [],
   "source": [
    "query_response = llm(chat_messages).content"
   ]
  },
  {
   "cell_type": "code",
   "execution_count": 75,
   "id": "a7eed9e3-5352-47ab-b50a-12638d9c8e4d",
   "metadata": {},
   "outputs": [
    {
     "data": {
      "text/plain": [
       "'According to the provided user manual, the PowerGuard Elite battery takes approximately 8-10 hours to charge fully. It is recommended to charge the battery for this duration before initial use to ensure optimal performance.'"
      ]
     },
     "execution_count": 75,
     "metadata": {},
     "output_type": "execute_result"
    }
   ],
   "source": [
    "query_response"
   ]
  },
  {
   "cell_type": "code",
   "execution_count": 76,
   "id": "55b324ba-7dd1-40c8-bb40-e2e8f87add6d",
   "metadata": {},
   "outputs": [
    {
     "data": {
      "text/plain": [
       "{'id': '18d210698d94d716',\n",
       " 'threadId': '18d210644969fb25',\n",
       " 'snippet': 'How long does it take to charge the PowerGuard Elite battery fully?',\n",
       " 'body': 'How long does it take to charge the PowerGuard Elite battery fully?\\r\\n',\n",
       " 'subject': 'query on product inverter battery',\n",
       " 'sender': 'AKSHAT PANT <akshat.pant06@gmail.com>'}"
      ]
     },
     "execution_count": 76,
     "metadata": {},
     "output_type": "execute_result"
    }
   ],
   "source": [
    "email"
   ]
  },
  {
   "cell_type": "code",
   "execution_count": 79,
   "id": "3b3069a3-73ea-4d76-9ac6-b23a934a884b",
   "metadata": {},
   "outputs": [
    {
     "data": {
      "text/plain": [
       "'Email sent successfully.'"
      ]
     },
     "execution_count": 79,
     "metadata": {},
     "output_type": "execute_result"
    }
   ],
   "source": [
    "agent.run(f\"Send a gmail reply to {email['sender']} for {email['subject']} with response {query_response}\")"
   ]
  },
  {
   "cell_type": "code",
   "execution_count": null,
   "id": "d3ebf2a9-90ac-42be-b082-36f92792e3f9",
   "metadata": {},
   "outputs": [],
   "source": []
  }
 ],
 "metadata": {
  "kernelspec": {
   "display_name": "Python 3 (ipykernel)",
   "language": "python",
   "name": "python3"
  },
  "language_info": {
   "codemirror_mode": {
    "name": "ipython",
    "version": 3
   },
   "file_extension": ".py",
   "mimetype": "text/x-python",
   "name": "python",
   "nbconvert_exporter": "python",
   "pygments_lexer": "ipython3",
   "version": "3.8.18"
  }
 },
 "nbformat": 4,
 "nbformat_minor": 5
}
